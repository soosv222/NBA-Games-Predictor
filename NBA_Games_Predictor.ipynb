{
  "nbformat": 4,
  "nbformat_minor": 0,
  "metadata": {
    "colab": {
      "name": "NBA_Games_Predictor",
      "provenance": []
    },
    "kernelspec": {
      "name": "python3",
      "display_name": "Python 3"
    },
    "language_info": {
      "name": "python"
    }
  },
  "cells": [
    {
      "cell_type": "code",
      "metadata": {
        "id": "xBlZJQy3ake8"
      },
      "source": [
        "import numpy as np\n",
        "import pandas as pd\n",
        "from keras.models import Sequential\n",
        "from keras.layers import Dense\n",
        "from keras.models import model_from_json\n",
        "from sklearn.model_selection import train_test_split\n",
        "from time import time"
      ],
      "execution_count": 1,
      "outputs": []
    },
    {
      "cell_type": "code",
      "metadata": {
        "id": "3GBA3LI2axiV"
      },
      "source": [
        "games = pd.read_csv('games.csv')\n",
        "deails = pd.read_csv('games_details.csv')\n",
        "player = pd.read_csv('players.csv')\n",
        "ranking = pd.read_csv('ranking.csv')\n",
        "names = pd.read_csv('teams.csv')"
      ],
      "execution_count": 2,
      "outputs": []
    },
    {
      "cell_type": "code",
      "metadata": {
        "id": "1SfPZk5gbyHs"
      },
      "source": [
        "games = games.sort_values(by = 'GAME_DATE_EST').reset_index(drop = True)\n",
        "games = games.loc[games['GAME_DATE_EST'] >= '2004-01-01'].reset_index(drop = True)\n",
        "names = names[['TEAM_ID', 'NICKNAME']]\n",
        "hnames = names.copy()\n",
        "hnames.columns = ['HOME_TEAM_ID', 'NICKNAME']\n",
        "result_1 = pd.merge(games['HOME_TEAM_ID'], hnames, how =\"left\", on=\"HOME_TEAM_ID\")  \n",
        "games['HOME_TEAM_ID'] = result_1['NICKNAME']\n",
        "vnames = names.copy()\n",
        "vnames.columns = ['VISITOR_TEAM_ID', 'NICKNAME']\n",
        "result_2 = pd.merge(games['VISITOR_TEAM_ID'], vnames, how = \"left\", on=\"VISITOR_TEAM_ID\")\n",
        "games['VISITOR_TEAM_ID'] = result_2['NICKNAME']"
      ],
      "execution_count": 3,
      "outputs": []
    },
    {
      "cell_type": "code",
      "metadata": {
        "id": "SOrTXqy8b006"
      },
      "source": [
        "features = ['FG_PCT_home', 'FT_PCT_home', 'FG3_PCT_home', 'AST_home', 'REB_home',\n",
        "            'FG_PCT_away', 'FT_PCT_away', 'FG3_PCT_away', 'AST_away', 'REB_away']\n",
        "X = games[features]\n",
        "y = games[['HOME_TEAM_WINS']]"
      ],
      "execution_count": 4,
      "outputs": []
    },
    {
      "cell_type": "code",
      "metadata": {
        "id": "T3q8YQS4dJ9S"
      },
      "source": [
        "X_train, X_test, y_train, y_test = train_test_split(X,y)"
      ],
      "execution_count": 5,
      "outputs": []
    },
    {
      "cell_type": "code",
      "metadata": {
        "id": "8KKYD928cpWU"
      },
      "source": [
        "model = Sequential()\n",
        "model.add(Dense(6, 'relu', input_dim = 10))\n",
        "model.add(Dense(1, 'sigmoid'))\n",
        "\n",
        "model.compile(loss='binary_crossentropy', optimizer='adam', metrics=['accuracy'])"
      ],
      "execution_count": 31,
      "outputs": []
    },
    {
      "cell_type": "code",
      "metadata": {
        "id": "LOk_qo8Ag4AA",
        "colab": {
          "base_uri": "https://localhost:8080/"
        },
        "outputId": "895cd62b-737f-4282-829d-f62a4a113824"
      },
      "source": [
        "start_train = time()\n",
        "model.fit(X_train, y_train, 6, 25)\n",
        "end_train = time()"
      ],
      "execution_count": 32,
      "outputs": [
        {
          "output_type": "stream",
          "text": [
            "Epoch 1/25\n",
            "3014/3014 [==============================] - 4s 1ms/step - loss: 0.8526 - accuracy: 0.6628\n",
            "Epoch 2/25\n",
            "3014/3014 [==============================] - 3s 1ms/step - loss: 0.4819 - accuracy: 0.7604\n",
            "Epoch 3/25\n",
            "3014/3014 [==============================] - 3s 1ms/step - loss: 0.4683 - accuracy: 0.7713\n",
            "Epoch 4/25\n",
            "3014/3014 [==============================] - 3s 1ms/step - loss: 0.4504 - accuracy: 0.7829\n",
            "Epoch 5/25\n",
            "3014/3014 [==============================] - 3s 1ms/step - loss: 0.4479 - accuracy: 0.7828\n",
            "Epoch 6/25\n",
            "3014/3014 [==============================] - 3s 1ms/step - loss: 0.4347 - accuracy: 0.7898\n",
            "Epoch 7/25\n",
            "3014/3014 [==============================] - 3s 1ms/step - loss: 0.4254 - accuracy: 0.7971\n",
            "Epoch 8/25\n",
            "3014/3014 [==============================] - 3s 1ms/step - loss: 0.4180 - accuracy: 0.8010\n",
            "Epoch 9/25\n",
            "3014/3014 [==============================] - 3s 1ms/step - loss: 0.4143 - accuracy: 0.8035\n",
            "Epoch 10/25\n",
            "3014/3014 [==============================] - 3s 1ms/step - loss: 0.4136 - accuracy: 0.8035\n",
            "Epoch 11/25\n",
            "3014/3014 [==============================] - 3s 1ms/step - loss: 0.4138 - accuracy: 0.8031\n",
            "Epoch 12/25\n",
            "3014/3014 [==============================] - 3s 1ms/step - loss: 0.4045 - accuracy: 0.8078\n",
            "Epoch 13/25\n",
            "3014/3014 [==============================] - 3s 1ms/step - loss: 0.4025 - accuracy: 0.8106\n",
            "Epoch 14/25\n",
            "3014/3014 [==============================] - 3s 1ms/step - loss: 0.4040 - accuracy: 0.8109\n",
            "Epoch 15/25\n",
            "3014/3014 [==============================] - 3s 1ms/step - loss: 0.3944 - accuracy: 0.8148\n",
            "Epoch 16/25\n",
            "3014/3014 [==============================] - 3s 1ms/step - loss: 0.4003 - accuracy: 0.8132\n",
            "Epoch 17/25\n",
            "3014/3014 [==============================] - 3s 1ms/step - loss: 0.3811 - accuracy: 0.8238\n",
            "Epoch 18/25\n",
            "3014/3014 [==============================] - 3s 1ms/step - loss: 0.3903 - accuracy: 0.8176\n",
            "Epoch 19/25\n",
            "3014/3014 [==============================] - 3s 1ms/step - loss: 0.3860 - accuracy: 0.8139\n",
            "Epoch 20/25\n",
            "3014/3014 [==============================] - 3s 1ms/step - loss: 0.3801 - accuracy: 0.8213\n",
            "Epoch 21/25\n",
            "3014/3014 [==============================] - 3s 1ms/step - loss: 0.3870 - accuracy: 0.8205\n",
            "Epoch 22/25\n",
            "3014/3014 [==============================] - 3s 1ms/step - loss: 0.3822 - accuracy: 0.8223\n",
            "Epoch 23/25\n",
            "3014/3014 [==============================] - 3s 1ms/step - loss: 0.3808 - accuracy: 0.8242\n",
            "Epoch 24/25\n",
            "3014/3014 [==============================] - 3s 1ms/step - loss: 0.3718 - accuracy: 0.8248\n",
            "Epoch 25/25\n",
            "3014/3014 [==============================] - 3s 1ms/step - loss: 0.3686 - accuracy: 0.8275\n"
          ],
          "name": "stdout"
        }
      ]
    },
    {
      "cell_type": "code",
      "metadata": {
        "colab": {
          "base_uri": "https://localhost:8080/"
        },
        "id": "8UmukKLKiFwM",
        "outputId": "3644b055-f799-49d1-aa85-e3b72a191f74"
      },
      "source": [
        "loss, accuracy = model.evaluate(X_test, y_test)\n",
        "accuracy"
      ],
      "execution_count": 33,
      "outputs": [
        {
          "output_type": "stream",
          "text": [
            "189/189 [==============================] - 0s 1ms/step - loss: 0.3833 - accuracy: 0.8197\n"
          ],
          "name": "stdout"
        },
        {
          "output_type": "execute_result",
          "data": {
            "text/plain": [
              "0.8197047710418701"
            ]
          },
          "metadata": {
            "tags": []
          },
          "execution_count": 33
        }
      ]
    }
  ]
}